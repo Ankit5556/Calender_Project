{
 "cells": [
  {
   "cell_type": "code",
   "execution_count": 1,
   "id": "dddad548-f25a-4019-a86e-804fcadc8b9d",
   "metadata": {},
   "outputs": [],
   "source": [
    "import tkinter as tk"
   ]
  },
  {
   "cell_type": "code",
   "execution_count": 27,
   "id": "fd4808f4-42e2-4af0-af2e-3f5b34c0dbdd",
   "metadata": {},
   "outputs": [],
   "source": [
    "a=tk.Tk()\n",
    "a.geometry(\"500x500\") #it is used to create the size we want for our display\n",
    "a.maxsize(5000,2000) #it is used to assign the highest size to the display\n",
    "a.title(\"Ankit\")\n",
    "a.config(background=\"white\")\n",
    "b=tk.Label(text=\"Password\",bg=\"white\",fg=\"black\",font=(\"times\",25,\"bold\"))\n",
    "b.pack() #it is used to show the data given  in the label\n",
    "a.mainloop()"
   ]
  },
  {
   "cell_type": "code",
   "execution_count": 28,
   "id": "951c7577-adcc-4c43-bbf1-35af69484581",
   "metadata": {},
   "outputs": [],
   "source": [
    "a=tk.Tk()\n",
    "a.geometry(\"1000x500\")\n",
    "a.title(\"Ankit\")\n",
    "a.config(background=\"white\")\n",
    "photo=tk.PhotoImage(file=\"Mattahan-Umicons-Calender.256.png\") #it is used to display image \n",
    "image1=tk.Label(text=\"calender\",fg=\"black\",bg=\"white\",font=(\"timees\",25,\"bold\"))\n",
    "b=tk.Label(image=photo) #it is used to call thed image \n",
    "image1.pack()\n",
    "b.pack()\n",
    "a.mainloop()"
   ]
  },
  {
   "cell_type": "code",
   "execution_count": null,
   "id": "b21e4c06-c200-40e3-9c1d-af0350db5a74",
   "metadata": {},
   "outputs": [],
   "source": []
  }
 ],
 "metadata": {
  "kernelspec": {
   "display_name": "Python 3 (ipykernel)",
   "language": "python",
   "name": "python3"
  },
  "language_info": {
   "codemirror_mode": {
    "name": "ipython",
    "version": 3
   },
   "file_extension": ".py",
   "mimetype": "text/x-python",
   "name": "python",
   "nbconvert_exporter": "python",
   "pygments_lexer": "ipython3",
   "version": "3.12.3"
  }
 },
 "nbformat": 4,
 "nbformat_minor": 5
}
