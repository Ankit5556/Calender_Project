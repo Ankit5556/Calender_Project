{
 "cells": [
  {
   "cell_type": "code",
   "execution_count": 2,
   "id": "f035c24d-2444-474f-9f0a-2d1c64047467",
   "metadata": {},
   "outputs": [],
   "source": [
    "import tkinter as tk\n",
    "import calendar \n",
    "from tkinter import scrolledtext"
   ]
  },
  {
   "cell_type": "code",
   "execution_count": 35,
   "id": "d4ed1ef5-4b11-4980-80da-2afa98d533e7",
   "metadata": {},
   "outputs": [],
   "source": [
    "display=tk.Tk()\n",
    "display.title(\"Calender\")\n",
    "display.geometry(\"700x600\")\n",
    "display.config(background=\"white\")\n",
    "\n",
    "#Display of the Title\n",
    "title=tk.Label(display,text=\"2026 Calender\",bg=\"white\",fg=\"Black\",font=(\"times\",25,\"bold\"),pady=20)\n",
    "title.pack()\n",
    "\n",
    "#frame of calandar\n",
    "frame=tk.Frame(display,bd=3,bg=\"white\",relief=\"ridge\",pady=10,padx=10) # the ridge is used to create a border\n",
    "frame.pack(padx=20,pady=10,fill=\"both\",expand=True)\n",
    "\n",
    "#add scrolled text \n",
    "scro_txt=scrolledtext.ScrolledText(frame,bg=\"white\",fg=\"black\",font=(\"Consolas\",11),width=40,height=20)\n",
    "scro_txt.pack(fill=\"both\",expand=True)\n",
    "\n",
    "#calling calendar \n",
    "cal=calendar.calendar(2026)\n",
    "scro_txt.insert(tk.END,cal)\n",
    "scro_txt.config(state=\"disabled\")\n",
    "\n",
    "#calling for footer\n",
    "foot=tk.Label(display,text=\"Created by Ankit Jadhav with Help of Python and tkinter\",bg=\"white\",fg=\"black\",font=(\"times\",10,\"italic\"),pady=10)\n",
    "foot.pack() \n",
    "\n",
    "display.mainloop()"
   ]
  },
  {
   "cell_type": "code",
   "execution_count": null,
   "id": "f1ff3e79-3ee0-4a80-8bf0-3d4563e18c5f",
   "metadata": {},
   "outputs": [],
   "source": []
  },
  {
   "cell_type": "code",
   "execution_count": null,
   "id": "203daa31-0c8d-40c1-810e-75ce72e42140",
   "metadata": {},
   "outputs": [],
   "source": []
  }
 ],
 "metadata": {
  "kernelspec": {
   "display_name": "Python 3 (ipykernel)",
   "language": "python",
   "name": "python3"
  },
  "language_info": {
   "codemirror_mode": {
    "name": "ipython",
    "version": 3
   },
   "file_extension": ".py",
   "mimetype": "text/x-python",
   "name": "python",
   "nbconvert_exporter": "python",
   "pygments_lexer": "ipython3",
   "version": "3.12.3"
  }
 },
 "nbformat": 4,
 "nbformat_minor": 5
}
