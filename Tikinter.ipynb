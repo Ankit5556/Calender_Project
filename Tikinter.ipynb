{
 "cells": [
  {
   "cell_type": "code",
   "execution_count": 1,
   "id": "7da6d2d6-7cec-40c0-b325-5fdda4cf084e",
   "metadata": {},
   "outputs": [
    {
     "name": "stdout",
     "output_type": "stream",
     "text": [
      "Note: you may need to restart the kernel to use updated packages.\n"
     ]
    },
    {
     "name": "stderr",
     "output_type": "stream",
     "text": [
      "WARNING: Retrying (Retry(total=4, connect=None, read=None, redirect=None, status=None)) after connection broken by 'NewConnectionError('<pip._vendor.urllib3.connection.HTTPSConnection object at 0x0000029F4FF5EDB0>: Failed to establish a new connection: [Errno 11001] getaddrinfo failed')': /simple/tkinter/\n",
      "WARNING: Retrying (Retry(total=3, connect=None, read=None, redirect=None, status=None)) after connection broken by 'NewConnectionError('<pip._vendor.urllib3.connection.HTTPSConnection object at 0x0000029F4ED88680>: Failed to establish a new connection: [Errno 11001] getaddrinfo failed')': /simple/tkinter/\n",
      "WARNING: Retrying (Retry(total=2, connect=None, read=None, redirect=None, status=None)) after connection broken by 'NewConnectionError('<pip._vendor.urllib3.connection.HTTPSConnection object at 0x0000029F5019D220>: Failed to establish a new connection: [Errno 11001] getaddrinfo failed')': /simple/tkinter/\n",
      "WARNING: Retrying (Retry(total=1, connect=None, read=None, redirect=None, status=None)) after connection broken by 'NewConnectionError('<pip._vendor.urllib3.connection.HTTPSConnection object at 0x0000029F5019D4C0>: Failed to establish a new connection: [Errno 11001] getaddrinfo failed')': /simple/tkinter/\n",
      "WARNING: Retrying (Retry(total=0, connect=None, read=None, redirect=None, status=None)) after connection broken by 'NewConnectionError('<pip._vendor.urllib3.connection.HTTPSConnection object at 0x0000029F5019D6D0>: Failed to establish a new connection: [Errno 11001] getaddrinfo failed')': /simple/tkinter/\n",
      "ERROR: Could not find a version that satisfies the requirement tkinter (from versions: none)\n",
      "ERROR: No matching distribution found for tkinter\n",
      "\n",
      "[notice] A new release of pip is available: 24.0 -> 25.2\n",
      "[notice] To update, run: python.exe -m pip install --upgrade pip\n"
     ]
    }
   ],
   "source": [
    "pip install tkinter"
   ]
  },
  {
   "cell_type": "code",
   "execution_count": 1,
   "id": "3cf21ab1-dec2-43fd-a1f3-f59b46de419d",
   "metadata": {},
   "outputs": [],
   "source": [
    "import tkinter as tk \n",
    "from tkinter import *\n"
   ]
  },
  {
   "cell_type": "code",
   "execution_count": 29,
   "id": "2f5b18df-530c-4b1b-8b79-0e29642ee72c",
   "metadata": {},
   "outputs": [],
   "source": [
    "s=tk.Tk() #to create Gui \n",
    "s.title('GUI') #to provide title to Gui \n",
    "s.iconbitmap('GUI.ico') #to add an image to gui\n",
    "s.maxsize(width=500,height=300) #It is used to define the size of window for gui \n",
    "s.minsize(width=500,height=300)\n",
    "s.config(background='gray') #it is used to provide\n",
    "s.geometry('500x300')\n",
    "sim=tk.Label(text='user name',bg='black',fg='white',font=('times',15,'bold'))\n",
    "sim.place(x=10,y=50)\n",
    "d=tk.Entry()\n",
    "d.place(x=150,y=50)\n",
    "c=tk.Button(text='login',bg='red',fg='white')\n",
    "c.place(x=250,y=250)\n",
    "s.mainloop()"
   ]
  },
  {
   "cell_type": "markdown",
   "id": "7183e7dc-086f-4771-bc55-f3608db9471e",
   "metadata": {},
   "source": [
    "#### "
   ]
  },
  {
   "cell_type": "code",
   "execution_count": 2,
   "id": "a5c5ff84-a7f5-474e-bb64-34cbb18bd7a3",
   "metadata": {},
   "outputs": [],
   "source": [
    "import calendar"
   ]
  },
  {
   "cell_type": "code",
   "execution_count": 10,
   "id": "015bf8ef-09e1-48a1-99d3-e1a8032a17ef",
   "metadata": {},
   "outputs": [],
   "source": []
  },
  {
   "cell_type": "code",
   "execution_count": null,
   "id": "e3d55ba9-8845-4e2d-b8e4-4ccc6f319141",
   "metadata": {},
   "outputs": [],
   "source": []
  },
  {
   "cell_type": "code",
   "execution_count": null,
   "id": "af17e772-f016-4eab-8e1a-07270508b7f6",
   "metadata": {},
   "outputs": [],
   "source": []
  },
  {
   "cell_type": "code",
   "execution_count": null,
   "id": "f49ee073-cc57-4ebc-a068-87cc190ad62d",
   "metadata": {},
   "outputs": [],
   "source": []
  }
 ],
 "metadata": {
  "kernelspec": {
   "display_name": "Python 3 (ipykernel)",
   "language": "python",
   "name": "python3"
  },
  "language_info": {
   "codemirror_mode": {
    "name": "ipython",
    "version": 3
   },
   "file_extension": ".py",
   "mimetype": "text/x-python",
   "name": "python",
   "nbconvert_exporter": "python",
   "pygments_lexer": "ipython3",
   "version": "3.12.3"
  }
 },
 "nbformat": 4,
 "nbformat_minor": 5
}
