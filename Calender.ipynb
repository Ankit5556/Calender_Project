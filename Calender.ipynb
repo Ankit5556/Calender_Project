{
 "cells": [
  {
   "cell_type": "code",
   "execution_count": 1,
   "id": "63b14003-55b9-459f-b4e3-cc9c130fb278",
   "metadata": {},
   "outputs": [],
   "source": [
    "import tkinter as tk\n",
    "from tkinter import scrolledtext\n",
    "import calendar\n",
    "\n",
    "# Create window\n",
    "s = tk.Tk()\n",
    "s.title(\"📅 Calendar 2026\")\n",
    "s.geometry(\"700x650\")  # Set proper window size\n",
    "s.config(bg=\"white\")\n",
    "\n",
    "# # Title label\n",
    "title = tk.Label(s, text=\"✨ Year 2026 Calendar ✨\", fg=\"#3b3b98\",bg=\"white\", font=(\"Helvetica\", 24, \"bold\"),pady=15)\n",
    "title.pack()\n",
    "\n",
    "# # Frame for calendar\n",
    "frame = tk.Frame(s, bg=\"white\", bd=3, relief=\"ridge\", padx=10, pady=10)\n",
    "frame.pack(padx=20, pady=10, fill=\"both\", expand=True)\n",
    "\n",
    "# # Add scrolled text for calendar\n",
    "cal_text = scrolledtext.ScrolledText(\n",
    "    frame,\n",
    "    wrap=tk.WORD,\n",
    "    width=80,\n",
    "    height=30,\n",
    "    font=(\"Consolas\", 11),\n",
    "    fg=\"#2c3e50\",\n",
    "    bg=\"#f7f9f9\"\n",
    ")\n",
    "cal_text.pack(fill=\"both\", expand=True)\n",
    "\n",
    "# # Insert calendar data\n",
    "year_calendar = calendar.calendar(2026)\n",
    "cal_text.insert(tk.END, year_calendar)\n",
    "cal_text.config(state=\"disabled\")  # Make it read-only\n",
    "\n",
    "# # Footer label\n",
    "footer = tk.Label(\n",
    "    s,\n",
    "    text=\"Developed with ❤ using Python & Tkinter\",\n",
    "    fg=\"gray\",\n",
    "    bg=\"white\",\n",
    "    font=(\"Arial\", 10, \"italic\"),\n",
    "    pady=10\n",
    ")\n",
    "footer.pack()\n",
    "\n",
    "s.mainloop()"
   ]
  },
  {
   "cell_type": "code",
   "execution_count": null,
   "id": "4a6e6013-1afe-4bc2-81b3-1d6f758e1722",
   "metadata": {},
   "outputs": [],
   "source": []
  },
  {
   "cell_type": "code",
   "execution_count": null,
   "id": "1ce9b57b-5091-4d4b-9d42-48dcd4ae28ab",
   "metadata": {},
   "outputs": [],
   "source": []
  }
 ],
 "metadata": {
  "kernelspec": {
   "display_name": "Python 3 (ipykernel)",
   "language": "python",
   "name": "python3"
  },
  "language_info": {
   "codemirror_mode": {
    "name": "ipython",
    "version": 3
   },
   "file_extension": ".py",
   "mimetype": "text/x-python",
   "name": "python",
   "nbconvert_exporter": "python",
   "pygments_lexer": "ipython3",
   "version": "3.12.3"
  }
 },
 "nbformat": 4,
 "nbformat_minor": 5
}
